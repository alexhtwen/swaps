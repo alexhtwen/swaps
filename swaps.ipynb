{
 "cells": [
  {
   "cell_type": "code",
   "execution_count": null,
   "metadata": {},
   "outputs": [],
   "source": [
    "<br><br>\n",
    "<div style=\"font-family: 'Gen Jyuu Gothic Monospace Medium', 'Noto Sans TC', 'Inconsolata'; font-size: 500%; font-weight: 700; text-align: center; color: #EA9782;\">\n",
    "繁花似錦的Swap\n",
    "</div>\n",
    "<br><br>\n",
    "<div style=\"font-family: 'Inconsolata', 'Noto Sans TC'; font-size: 135%; color: Gainsboro\">\n",
    "<br><br><br>\n"
   ]
  },
  {
   "cell_type": "code",
   "execution_count": null,
   "metadata": {},
   "outputs": [],
   "source": [
    "%%javascript\n",
    "// 設定output文字顏色\n",
    "document.styleSheets[0].addRule('body', 'color: #EA9782 !important;')"
   ]
  },
  {
   "cell_type": "markdown",
   "metadata": {},
   "source": [
    "<div style=\"color: SteelBlue; font-family: 'Ubuntu Mono', 'Inconsolata', 'Noto Sans TC'; font-size: 200%; font-weight: 700;\">\n",
    "1. Using a Temporary Variable"
   ]
  },
  {
   "cell_type": "code",
   "execution_count": null,
   "metadata": {},
   "outputs": [],
   "source": [
    "def swap(a, b):\n",
    "    temp = a # store value of a in temp.\n",
    "    a = b   # store value of b in a.\n",
    "    b = temp  # store value of temp in b.\n",
    "    return a, b\n",
    "\n",
    "# Example usage\n",
    "num1 = 5\n",
    "num2 = 10\n",
    "print(\"Before swap: num1 =\", num1, \"num2 =\", num2)\n",
    "num1, num2 = swap(num1, num2)\n",
    "print(\"After swap: num1 =\", num1, \"num2 =\", num2)\n"
   ]
  },
  {
   "cell_type": "markdown",
   "metadata": {},
   "source": [
    "<div style=\"color: SteelBlue; font-family: 'Ubuntu Mono', 'Inconsolata', 'Noto Sans TC'; font-size: 200%; font-weight: 700;\">\n",
    "2. Using Arithmetic Operations"
   ]
  },
  {
   "cell_type": "code",
   "execution_count": null,
   "metadata": {},
   "outputs": [],
   "source": [
    "def swap(a, b):\n",
    "    a = a + b  # Take sum of a and b and store in a.\n",
    "    b = a - b  # Subtract b from a and store in b.\n",
    "    a = a - b  # Subtract b from a and store in a.\n",
    "    return a, b\n",
    "\n",
    "# Example usage\n",
    "num1 = 5\n",
    "num2 = 10\n",
    "print(\"Before swap: num1 =\", num1, \"num2 =\", num2)\n",
    "num1, num2 = swap(num1, num2)\n",
    "print(\"After swap: num1 =\", num1, \"num2 =\", num2)\n"
   ]
  },
  {
   "cell_type": "markdown",
   "metadata": {},
   "source": [
    "<div style=\"color: SteelBlue; font-family: 'Ubuntu Mono', 'Inconsolata', 'Noto Sans TC'; font-size: 200%; font-weight: 700;\">\n",
    "3. Using Tuple Packing and Unpacking"
   ]
  },
  {
   "cell_type": "code",
   "execution_count": null,
   "metadata": {},
   "outputs": [],
   "source": [
    "def swap(a, b):\n",
    "    return b, a\n",
    "\n",
    "# Example usage\n",
    "num1 = 5\n",
    "num2 = 10\n",
    "print(\"Before swap: num1 =\", num1, \"num2 =\", num2)\n",
    "num1, num2 = swap(num1, num2)\n",
    "print(\"After swap: num1 =\", num1, \"num2 =\", num2)\n"
   ]
  },
  {
   "cell_type": "markdown",
   "metadata": {},
   "source": [
    "<div style=\"color: SteelBlue; font-family: 'Ubuntu Mono', 'Inconsolata', 'Noto Sans TC'; font-size: 200%; font-weight: 700;\">\n",
    "4. Using XOR Bitwise Operation"
   ]
  },
  {
   "cell_type": "code",
   "execution_count": null,
   "metadata": {},
   "outputs": [],
   "source": [
    "def swap(a, b):\n",
    "    a = a ^ b\n",
    "    b = a ^ b\n",
    "    a = a ^ b\n",
    "    return a, b\n",
    "\n",
    "# Example usage\n",
    "num1 = 5\n",
    "num2 = 10\n",
    "print(\"Before swap: num1 =\", num1, \"num2 =\", num2)\n",
    "num1, num2 = swap(num1, num2)\n",
    "print(\"After swap: num1 =\", num1, \"num2 =\", num2)\n"
   ]
  },
  {
   "cell_type": "markdown",
   "metadata": {},
   "source": [
    "<div style=\"color: SteelBlue; font-family: 'Ubuntu Mono', 'Inconsolata', 'Noto Sans TC'; font-size: 200%; font-weight: 700;\">\n",
    "5. Using map Function"
   ]
  },
  {
   "cell_type": "code",
   "execution_count": null,
   "metadata": {},
   "outputs": [],
   "source": [
    "num1 = 5\n",
    "num2 = 10\n",
    "print(\"Before swap: num1 =\", num1, \"num2 =\", num2)\n",
    "num1, num2 = map(lambda x: num2 if x == num1 else num1, (num1, num2))\n",
    "print(\"After swap: num1 =\", num1, \"num2 =\", num2)\n"
   ]
  },
  {
   "cell_type": "markdown",
   "metadata": {},
   "source": [
    "<div style=\"color: SteelBlue; font-family: 'Ubuntu Mono', 'Inconsolata', 'Noto Sans TC'; font-size: 200%; font-weight: 700;\">\n",
    "6. Using globals() Function"
   ]
  },
  {
   "cell_type": "code",
   "execution_count": null,
   "metadata": {},
   "outputs": [],
   "source": [
    "def swap(a, b):\n",
    "    globals()['num1'], globals()['num2'] = b, a\n",
    "\n",
    "# Example usage\n",
    "num1 = 5\n",
    "num2 = 10\n",
    "print(\"Before swap: num1 =\", num1, \"num2 =\", num2)\n",
    "swap(num1, num2)\n",
    "print(\"After swap: num1 =\", num1, \"num2 =\", num2)\n"
   ]
  },
  {
   "cell_type": "markdown",
   "metadata": {},
   "source": [
    "<div style=\"color: SteelBlue; font-family: 'Ubuntu Mono', 'Inconsolata', 'Noto Sans TC'; font-size: 200%; font-weight: 700;\">\n",
    "7. Using a Class with Instance Variables"
   ]
  },
  {
   "cell_type": "code",
   "execution_count": 11,
   "metadata": {},
   "outputs": [
    {
     "name": "stdout",
     "output_type": "stream",
     "text": [
      "Before swap: num1 = 5 num2 = 10\n",
      "After swap: num1 = 10 num2 = 5\n"
     ]
    }
   ],
   "source": [
    "class NumberSwapper:\n",
    "    def __init__(self, a, b):\n",
    "        self.num1 = a\n",
    "        self.num2 = b\n",
    "\n",
    "    def swap(self):\n",
    "        self.num1, self.num2 = self.num2, self.num1\n",
    "\n",
    "# Example usage\n",
    "num1 = 5\n",
    "num2 = 10\n",
    "print(\"Before swap: num1 =\", num1, \"num2 =\", num2)\n",
    "swapper = NumberSwapper(num1, num2)\n",
    "swapper.swap()\n",
    "num1 = swapper.num1\n",
    "num2 = swapper.num2\n",
    "print(\"After swap: num1 =\", num1, \"num2 =\", num2)\n"
   ]
  },
  {
   "cell_type": "markdown",
   "metadata": {},
   "source": [
    "<div style=\"color: SteelBlue; font-family: 'Ubuntu Mono', 'Inconsolata', 'Noto Sans TC'; font-size: 200%; font-weight: 700;\">\n",
    "8. Using setattr() Function"
   ]
  },
  {
   "cell_type": "code",
   "execution_count": 10,
   "metadata": {},
   "outputs": [
    {
     "name": "stdout",
     "output_type": "stream",
     "text": [
      "Before swap: num1 = 5 num2 = 10\n",
      "After swap: num1 = 10 num2 = 5\n"
     ]
    }
   ],
   "source": [
    "def swap(a, b):\n",
    "    setattr(swap, 'num1', b)\n",
    "    setattr(swap, 'num2', a)\n",
    "\n",
    "# Example usage\n",
    "num1 = 5\n",
    "num2 = 10\n",
    "print(\"Before swap: num1 =\", num1, \"num2 =\", num2)\n",
    "swap(num1, num2)\n",
    "num1 = swap.num1\n",
    "num2 = swap.num2\n",
    "print(\"After swap: num1 =\", num1, \"num2 =\", num2)\n"
   ]
  },
  {
   "cell_type": "markdown",
   "metadata": {},
   "source": [
    "<div style=\"color: SteelBlue; font-family: 'Ubuntu Mono', 'Inconsolata', 'Noto Sans TC'; font-size: 200%; font-weight: 700;\">\n",
    "9. Using a Lambda Function and Dictionary"
   ]
  },
  {
   "cell_type": "code",
   "execution_count": 12,
   "metadata": {},
   "outputs": [
    {
     "name": "stdout",
     "output_type": "stream",
     "text": [
      "Before swap: num1 = 5 num2 = 10\n",
      "After swap: num1 = 10 num2 = 5\n"
     ]
    }
   ],
   "source": [
    "swap = lambda a, b: {'num1': b, 'num2': a}\n",
    "\n",
    "# Example usage\n",
    "num1 = 5\n",
    "num2 = 10\n",
    "print(\"Before swap: num1 =\", num1, \"num2 =\", num2)\n",
    "result = swap(num1, num2)\n",
    "num1 = result['num1']\n",
    "num2 = result['num2']\n",
    "print(\"After swap: num1 =\", num1, \"num2 =\", num2)\n"
   ]
  },
  {
   "cell_type": "markdown",
   "metadata": {},
   "source": [
    "<div style=\"color: SteelBlue; font-family: 'Ubuntu Mono', 'Inconsolata', 'Noto Sans TC'; font-size: 200%; font-weight: 700;\">\n",
    "10. Using a Generator Function"
   ]
  },
  {
   "cell_type": "code",
   "execution_count": 13,
   "metadata": {},
   "outputs": [
    {
     "name": "stdout",
     "output_type": "stream",
     "text": [
      "Before swap: num1 = 5 num2 = 10\n",
      "After swap: num1 = 10 num2 = 5\n"
     ]
    }
   ],
   "source": [
    "def swap(a, b):\n",
    "    yield b\n",
    "    yield a\n",
    "\n",
    "# Example usage\n",
    "num1 = 5\n",
    "num2 = 10\n",
    "print(\"Before swap: num1 =\", num1, \"num2 =\", num2)\n",
    "num1, num2 = swap(num1, num2)\n",
    "print(\"After swap: num1 =\", num1, \"num2 =\", num2)\n"
   ]
  },
  {
   "cell_type": "markdown",
   "metadata": {},
   "source": [
    "<div style=\"color: SteelBlue; font-family: 'Ubuntu Mono', 'Inconsolata', 'Noto Sans TC'; font-size: 200%; font-weight: 700;\">\n",
    "11. Using deque Data Structure"
   ]
  },
  {
   "cell_type": "code",
   "execution_count": 14,
   "metadata": {},
   "outputs": [
    {
     "name": "stdout",
     "output_type": "stream",
     "text": [
      "Before swap: num1 = 5 num2 = 10\n",
      "After swap: num1 = 10 num2 = 5\n"
     ]
    }
   ],
   "source": [
    "from collections import deque\n",
    "\n",
    "def swap(a, b):\n",
    "    queue = deque([b, a])\n",
    "    return queue.popleft(), queue.popleft()\n",
    "\n",
    "# Example usage\n",
    "num1 = 5\n",
    "num2 = 10\n",
    "print(\"Before swap: num1 =\", num1, \"num2 =\", num2)\n",
    "num1, num2 = swap(num1, num2)\n",
    "print(\"After swap: num1 =\", num1, \"num2 =\", num2)\n"
   ]
  },
  {
   "cell_type": "markdown",
   "metadata": {},
   "source": [
    "<div style=\"color: SteelBlue; font-family: 'Ubuntu Mono', 'Inconsolata', 'Noto Sans TC'; font-size: 200%; font-weight: 700;\">\n",
    "12. Using Single Line of Code with Arithmetic Operations"
   ]
  },
  {
   "cell_type": "code",
   "execution_count": 15,
   "metadata": {},
   "outputs": [
    {
     "name": "stdout",
     "output_type": "stream",
     "text": [
      "Before swap: num1 = 5 num2 = 10\n",
      "After swap: num1 = 10 num2 = 5\n"
     ]
    }
   ],
   "source": [
    "def swap(a, b):\n",
    "    return a + b - (b := a), a\n",
    "\n",
    "# Example usage\n",
    "num1 = 5\n",
    "num2 = 10\n",
    "print(\"Before swap: num1 =\", num1, \"num2 =\", num2)\n",
    "num1, num2 = swap(num1, num2)\n",
    "print(\"After swap: num1 =\", num1, \"num2 =\", num2)\n"
   ]
  }
 ],
 "metadata": {
  "kernelspec": {
   "display_name": "Python 3",
   "language": "python",
   "name": "python3"
  },
  "language_info": {
   "codemirror_mode": {
    "name": "ipython",
    "version": 3
   },
   "file_extension": ".py",
   "mimetype": "text/x-python",
   "name": "python",
   "nbconvert_exporter": "python",
   "pygments_lexer": "ipython3",
   "version": "3.12.1"
  }
 },
 "nbformat": 4,
 "nbformat_minor": 2
}
