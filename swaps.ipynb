{
 "cells": [
  {
   "cell_type": "markdown",
   "metadata": {},
   "source": [
    "<br><br>\n",
    "<div style=\"font-family: 'Gen Jyuu Gothic Monospace Medium', 'Noto Sans TC', 'Inconsolata'; font-size: 500%; font-weight: 700; text-align: center; color: #EA9782;\">\n",
    "繁花似錦的swap\n",
    "</div>\n",
    "<br><br>\n",
    "<div style=\"font-family: 'Inconsolata', 'Noto Sans TC'; font-size: 135%; color: Gainsboro\">\n",
    "<br><br><br>\n"
   ]
  },
  {
   "cell_type": "code",
   "execution_count": null,
   "metadata": {},
   "outputs": [],
   "source": [
    "%%javascript\n",
    "// 設定output文字顏色\n",
    "document.styleSheets[0].addRule('body', 'color: #EA9782 !important;')"
   ]
  },
  {
   "cell_type": "code",
   "execution_count": null,
   "metadata": {},
   "outputs": [],
   "source": [
    "print('Scribo, ergo sum.')   # 我code故我在\n",
    "print('Sum, ergo scribo.')   # 我在故我code"
   ]
  },
  {
   "cell_type": "code",
   "execution_count": 87,
   "metadata": {},
   "outputs": [],
   "source": [
    "def go(x: any, y: any, swap) -> tuple:\n",
    "    print(f'Before: {x=}\\t{y=}')\n",
    "    x, y = swap(x, y)   # x, y兩者的值互相交換\n",
    "    print(f'After : {x=}\\t{y=}')\n",
    "    print()"
   ]
  },
  {
   "cell_type": "markdown",
   "metadata": {},
   "source": [
    "<div style=\"color: SteelBlue; font-family: 'Ubuntu Mono', 'Inconsolata', 'Noto Sans TC'; font-size: 200%; font-weight: 700;\">\n",
    "1. Using a Temporary Variable"
   ]
  },
  {
   "cell_type": "code",
   "execution_count": null,
   "metadata": {},
   "outputs": [],
   "source": [
    "# Using a temporary variable\n",
    "def swap(obj1: any, obj2: any) -> tuple:\n",
    "    temp = obj1        # store value of obj1 in temp.\n",
    "    obj1 = obj2        # store value of obj2 in obj1.\n",
    "    obj2 = temp        # store value of temp in obj2.\n",
    "    return obj1, obj2\n",
    "\n",
    "go(1, 99, swap)          # swapping two integers\n",
    "go(3.7, 6.2, swap)       # swapping two floats\n",
    "go('M', 'F', swap)       # swapping two strings\n",
    "go(True, False, swap)    # swapping two booleans\n",
    "go([1], [99], swap)      # swapping two lists\n",
    "go({1}, (1,), swap)      # swapping two objects of different types"
   ]
  },
  {
   "cell_type": "markdown",
   "metadata": {},
   "source": [
    "<div style=\"color: SteelBlue; font-family: 'Ubuntu Mono', 'Inconsolata', 'Noto Sans TC'; font-size: 200%; font-weight: 700;\">\n",
    "2. Using a Dictionary"
   ]
  },
  {
   "cell_type": "code",
   "execution_count": null,
   "metadata": {},
   "outputs": [],
   "source": [
    "# Using a dict\n",
    "def swap(obj1: any, obj2: any) -> tuple:\n",
    "    # Using a dictionary to hold the objects\n",
    "    swap_dict = {\n",
    "        'obj1': obj1,\n",
    "        'obj2': obj2\n",
    "    }\n",
    "\n",
    "    # Swapping the values inside the dict\n",
    "    swap_dict['obj1'], swap_dict['obj2'] = swap_dict['obj2'], swap_dict['obj1']\n",
    "\n",
    "    # Return the swapped objects from the dict\n",
    "    return swap_dict['obj1'], swap_dict['obj2']\n",
    "\n",
    "\n",
    "go(1, 99, swap)          # swapping two integers\n",
    "go(3.7, 6.2, swap)       # swapping two floats\n",
    "go('M', 'F', swap)       # swapping two strings\n",
    "go(True, False, swap)    # swapping two booleans\n",
    "go([1], [99], swap)      # swapping two lists\n",
    "go({1}, (1), swap)       # swapping two objects of different types\n"
   ]
  },
  {
   "cell_type": "markdown",
   "metadata": {},
   "source": [
    "<div style=\"color: SteelBlue; font-family: 'Ubuntu Mono', 'Inconsolata', 'Noto Sans TC'; font-size: 200%; font-weight: 700;\">\n",
    "3. Using Tuple Packing and Unpacking"
   ]
  },
  {
   "cell_type": "code",
   "execution_count": null,
   "metadata": {},
   "outputs": [],
   "source": [
    "# Using tuple packing and unpacking\n",
    "def swap(obj1: any, obj2: any) -> tuple:\n",
    "    return obj2, obj1\n",
    "\n",
    "go(1, 99, swap)          # swapping two integers\n",
    "go(3.7, 6.2, swap)       # swapping two floats\n",
    "go('M', 'F', swap)       # swapping two strings\n",
    "go(True, False, swap)    # swapping two booleans\n",
    "go([1], [99], swap)      # swapping two lists\n",
    "go({1}, (1), swap)       # swapping two objects of different types"
   ]
  },
  {
   "cell_type": "markdown",
   "metadata": {},
   "source": [
    "<div style=\"color: SteelBlue; font-family: 'Ubuntu Mono', 'Inconsolata', 'Noto Sans TC'; font-size: 200%; font-weight: 700;\">\n",
    "4. Using Arithmetic Operations\n",
    "</div>\n",
    "<br>\n",
    "<div style=\"color: SeaShell; font-family: 'Ubuntu Mono', 'Inconsolata', 'Noto Sans TC'; font-size: 125%; font-weight: 500;\">\n",
    "\n",
    "* Only works for numeric types.\n",
    "\n",
    "</div>"
   ]
  },
  {
   "cell_type": "code",
   "execution_count": null,
   "metadata": {},
   "outputs": [],
   "source": [
    "def swap(obj1: int | float, obj2: int | float) -> tuple:\n",
    "    obj1 = obj1 + obj2    # Take sum of x and y and store in x.\n",
    "    obj2 = obj1 - obj2    # Subtract y from x and store in y.\n",
    "    obj1 = obj1 - obj2    # Subtract y from x and store in x.\n",
    "    return obj1, obj2\n",
    "\n",
    "go(1, 99, swap)          # swapping two integers\n",
    "go(3.7, 6.2, swap)       # swapping two floats (會有浮數點無法精準問題)\n",
    "go('M', 'F', swap)       # swapping two strings\n",
    "go(True, False, swap)    # swapping two booleans\n",
    "go([1], [99], swap)      # swapping two lists\n",
    "go({1}, (1), swap)       # swapping two objects of different types"
   ]
  },
  {
   "cell_type": "markdown",
   "metadata": {},
   "source": [
    "<div style=\"color: SteelBlue; font-family: 'Ubuntu Mono', 'Inconsolata', 'Noto Sans TC'; font-size: 200%; font-weight: 700;\">\n",
    "5. Using Single Line of Code with Arithmetic Operations"
   ]
  },
  {
   "cell_type": "code",
   "execution_count": null,
   "metadata": {},
   "outputs": [],
   "source": [
    "def swap(obj1: any, obj2: any) -> tuple:\n",
    "    return obj1 + obj2 - (obj2 := obj1), obj1\n",
    "    # return obj2, obj1\n",
    "\n",
    "go(1, 99, swap)          # swapping two integers\n",
    "go(3.7, 6.2, swap)       # swapping two floats\n",
    "go('M', 'F', swap)       # swapping two strings\n",
    "go(True, False, swap)    # swapping two booleans\n",
    "go([1], [99], swap)      # swapping two lists\n",
    "go({1}, (1), swap)       # swapping two objects of different types"
   ]
  },
  {
   "cell_type": "markdown",
   "metadata": {},
   "source": [
    "<div style=\"color: SteelBlue; font-family: 'Ubuntu Mono', 'Inconsolata', 'Noto Sans TC'; font-size: 200%; font-weight: 700;\">\n",
    "6. Using XOR Bitwise Operation\n",
    "</div>\n",
    "<br>\n",
    "<div style=\"color: SeaShell; font-family: 'Ubuntu Mono', 'Inconsolata', 'Noto Sans TC'; font-size: 125%; font-weight: 500;\">\n",
    "\n",
    "* Only works for integers.\n",
    "\n",
    "</div>"
   ]
  },
  {
   "cell_type": "code",
   "execution_count": null,
   "metadata": {},
   "outputs": [],
   "source": [
    "# Using XOR bitwise operation\n",
    "def swap(x, y):\n",
    "    x = x ^ y\n",
    "    y = x ^ y\n",
    "    x = x ^ y\n",
    "    return x, y\n",
    "\n",
    "go(1, 99, swap)          # swapping two integers\n",
    "go(3.7, 6.2, swap)       # swapping two floats (會有浮數點無法精準問題)\n",
    "go('M', 'F', swap)       # swapping two strings\n",
    "go(True, False, swap)    # swapping two booleans\n",
    "go([1], [99], swap)      # swapping two lists\n",
    "go({1}, (1), swap)       # swapping two objects of different types"
   ]
  },
  {
   "cell_type": "markdown",
   "metadata": {},
   "source": [
    "<div style=\"color: SteelBlue; font-family: 'Ubuntu Mono', 'Inconsolata', 'Noto Sans TC'; font-size: 200%; font-weight: 700;\">\n",
    "7. Using Generator Function"
   ]
  },
  {
   "cell_type": "code",
   "execution_count": 96,
   "metadata": {},
   "outputs": [
    {
     "name": "stdout",
     "output_type": "stream",
     "text": [
      "Before: x=1\ty=99\n",
      "After : x=99\ty=1\n",
      "\n",
      "Before: x=3.7\ty=6.2\n",
      "After : x=6.2\ty=3.7\n",
      "\n",
      "Before: x='M'\ty='F'\n",
      "After : x='F'\ty='M'\n",
      "\n",
      "Before: x=True\ty=False\n",
      "After : x=False\ty=True\n",
      "\n",
      "Before: x=[1]\ty=[99]\n",
      "After : x=[99]\ty=[1]\n",
      "\n",
      "Before: x={1}\ty=1\n",
      "After : x=1\ty={1}\n",
      "\n"
     ]
    }
   ],
   "source": [
    "def swap(x, y):   # generator function\n",
    "    return y, x\n",
    "    # yield y\n",
    "    # yield x\n",
    "\n",
    "go(1, 99, swap)          # swapping two integers\n",
    "go(3.7, 6.2, swap)       # swapping two floats (沒有浮數點無法精準問題)\n",
    "go('M', 'F', swap)       # swapping two strings\n",
    "go(True, False, swap)    # swapping two booleans\n",
    "go([1], [99], swap)      # swapping two lists\n",
    "go({1}, (1), swap)       # swapping two objects of different types"
   ]
  },
  {
   "cell_type": "markdown",
   "metadata": {},
   "source": [
    "<div style=\"color: SteelBlue; font-family: 'Ubuntu Mono', 'Inconsolata', 'Noto Sans TC'; font-size: 200%; font-weight: 700;\">\n",
    "8-1. Using deque Data Structure"
   ]
  },
  {
   "cell_type": "code",
   "execution_count": 99,
   "metadata": {},
   "outputs": [
    {
     "name": "stdout",
     "output_type": "stream",
     "text": [
      "Before: x=1\ty=99\n",
      "After : x=99\ty=1\n",
      "\n",
      "Before: x='M'\ty='F'\n",
      "After : x='F'\ty='M'\n",
      "\n",
      "Before: x=True\ty=False\n",
      "After : x=False\ty=True\n",
      "\n",
      "Before: x=[1]\ty=[99]\n",
      "After : x=[99]\ty=[1]\n",
      "\n",
      "Before: x={1}\ty=1\n",
      "After : x=1\ty={1}\n",
      "\n"
     ]
    }
   ],
   "source": [
    "from collections import deque\n",
    "\n",
    "def swap(x, y):\n",
    "    queue = deque([y, x])\n",
    "    return queue.popleft(), queue.popleft()\n",
    "\n",
    "go(1, 99, swap)                # swapping two integers\n",
    "go('M', 'F', swap)             # swapping two strings\n",
    "go(True, False, swap)          # swapping two booleans\n",
    "go([1], [99], swap)            # swapping two lists\n",
    "go({1}, (1), swap)             # swapping two objects of different types"
   ]
  },
  {
   "cell_type": "markdown",
   "metadata": {},
   "source": [
    "<div style=\"color: SteelBlue; font-family: 'Ubuntu Mono', 'Inconsolata', 'Noto Sans TC'; font-size: 200%; font-weight: 700;\">\n",
    "8-2. Using deque Data Structure"
   ]
  },
  {
   "cell_type": "code",
   "execution_count": 100,
   "metadata": {},
   "outputs": [
    {
     "name": "stdout",
     "output_type": "stream",
     "text": [
      "Before: x=1\ty=99\n",
      "After : x=99\ty=1\n",
      "\n",
      "Before: x='M'\ty='F'\n",
      "After : x='F'\ty='M'\n",
      "\n",
      "Before: x=True\ty=False\n",
      "After : x=False\ty=True\n",
      "\n",
      "Before: x=[1]\ty=[99]\n",
      "After : x=[99]\ty=[1]\n",
      "\n",
      "Before: x={1}\ty=1\n",
      "After : x=1\ty={1}\n",
      "\n"
     ]
    }
   ],
   "source": [
    "from collections import deque\n",
    "\n",
    "def swap(x, y):\n",
    "    queue = deque([x, y])\n",
    "    queue.rotate(1)  # Rotates the deque by one position\n",
    "    return queue[0], queue[1]\n",
    "\n",
    "go(1, 99, swap)                # swapping two integers\n",
    "go('M', 'F', swap)             # swapping two strings\n",
    "go(True, False, swap)          # swapping two booleans\n",
    "go([1], [99], swap)            # swapping two lists\n",
    "go({1}, (1), swap)             # swapping two objects of different types"
   ]
  }
 ],
 "metadata": {
  "kernelspec": {
   "display_name": "Python 3",
   "language": "python",
   "name": "python3"
  },
  "language_info": {
   "codemirror_mode": {
    "name": "ipython",
    "version": 3
   },
   "file_extension": ".py",
   "mimetype": "text/x-python",
   "name": "python",
   "nbconvert_exporter": "python",
   "pygments_lexer": "ipython3",
   "version": "3.12.6"
  }
 },
 "nbformat": 4,
 "nbformat_minor": 2
}
